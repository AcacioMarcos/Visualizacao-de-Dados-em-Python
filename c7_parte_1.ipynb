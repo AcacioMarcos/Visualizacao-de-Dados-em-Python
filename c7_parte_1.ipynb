{
  "nbformat": 4,
  "nbformat_minor": 0,
  "metadata": {
    "colab": {
      "name": "c7_parte_1.ipynb",
      "provenance": [],
      "include_colab_link": true
    },
    "kernelspec": {
      "name": "python3",
      "display_name": "Python 3"
    },
    "language_info": {
      "name": "python"
    }
  },
  "cells": [
    {
      "cell_type": "markdown",
      "metadata": {
        "id": "view-in-github",
        "colab_type": "text"
      },
      "source": [
        "<a href=\"https://colab.research.google.com/github/Rogerio-mack/Visualizacao-de-Dados-em-Python/blob/main/c7_parte_1.ipynb\" target=\"_parent\"><img src=\"https://colab.research.google.com/assets/colab-badge.svg\" alt=\"Open In Colab\"/></a>"
      ]
    },
    {
      "cell_type": "markdown",
      "metadata": {
        "id": "xnrEV-nLQX3S"
      },
      "source": [
        "# **Boas Práticas de Visualização**\n",
        "<hr>"
      ]
    },
    {
      "cell_type": "markdown",
      "metadata": {
        "id": "sURVMeITZdxm"
      },
      "source": [
        "A questão da Visualização de Dados vai muito além do processo de produzir gráficos com Python ou qualquer outra ferramenta. Você pode saber empregar a ferramenta corretamente e mesmo assim produzir visualizações erradas ou que não comunicam qualquer mensagem ao leitor. Por isso muitos livros de Visualização de Dados se quer apresentam qualquer linha de código. Eles focam no **quê** deve ser produzido para uma Visualização de Dados eficaz, em vez do **como** ou o uso correto das ferramentas, e princípios gerais para a preparação de figuras independem da ferramenta ou linguagem empregada. \n",
        "\n",
        "Buscamos apresentamos alguns desses princípios ao longo do texto e vamos concluir aqui apenas com algumas boas práticas que você deve ter em mente ao produzir figuras com Python ou qualquer outra ferramenta. Existem muito boas referências atuais sobre o tema sugiro você consultar, por exemplo, Kieran Healy (2019), Claus O. Wilke (2019) ou ainda  Andy Kirk(2019) (veja a bibliografia no final do texto). \n",
        "\n",
        "\n",
        "\n",
        "\n",
        "\n"
      ]
    },
    {
      "cell_type": "markdown",
      "metadata": {
        "id": "XR5fyG8ggXKh"
      },
      "source": [
        "## O Processo de Visualização de Dados\n",
        "\n",
        "Uma visualização de algo muito simples e só para você pode talvez não exigir muito planejamento. Mas, para qualquer caso de maior interesse, a Visualização de Dados é, como qualquer processo complexo, uma tarefa que exige uma certo planejamento e fases para que você possa alcançar um bom resultado. \n",
        "\n",
        "Esse processo pode ser descrito de forma mais ou menos elaborada, mas acredito que um bom ponto de partida é pensarmos em ao menos quatro passos para a elaboração de Visualizações corretas e eficazes dos dados. Dessas, apenas a última envolve efetivamente programação ou o uso de ferramentas.\n",
        "\n"
      ]
    },
    {
      "cell_type": "code",
      "metadata": {
        "id": "cvp9cN41kQOS",
        "outputId": "f33b1006-79c0-45cc-d3d3-8403a767ba15",
        "colab": {
          "base_uri": "https://localhost:8080/",
          "height": 189
        }
      },
      "source": [
        "import matplotlib\n",
        "import matplotlib.pyplot as plt\n",
        "\n",
        "fig = plt.figure(figsize=(10,2.5))\n",
        "\n",
        "for i, fase in enumerate(['O que?','Para Quem?','Desenhe','Execute']):\n",
        "  ax = fig.add_subplot(1,4,i+1)\n",
        "  ax.set(facecolor = '#FFD700')\n",
        "  plt.xlim([0, 400])\n",
        "  plt.ylim([0, 400])\n",
        "#  plt.text(200,200,fase, horizontalalignment='center', verticalalignment='center', \n",
        "#           fontsize=42, bbox=dict(facecolor='grey', alpha=0.3), family='fantasy')  \n",
        "  plt.text(200,200,fase, horizontalalignment='center', verticalalignment='center', \n",
        "           fontsize=24, c='w', family='fantasy', weight='bold')  \n",
        "  plt.xticks([])\n",
        "  plt.yticks([])\n",
        "\n",
        "plt.tight_layout()\n",
        "plt.show()"
      ],
      "execution_count": 59,
      "outputs": [
        {
          "output_type": "display_data",
          "data": {
            "image/png": "[encoded data removed]",
            "text/plain": [
              "<Figure size 720x180 with 4 Axes>"
            ]
          },
          "metadata": {
            "tags": []
          }
        }
      ]
    },
    {
      "cell_type": "markdown",
      "metadata": {
        "id": "_-a5DSchAtcD"
      },
      "source": [
        "### O quê?\n",
        "\n",
        "Se você preferir pode chamar essa fase de *Formulação do Problema*, mas acho mais simples dizermos simplesmente *O quê*? Essa é uma pergunta essencial. Afinal, o quê estamos buscando apresentar ou visualizar nos dados? Já discutimos que existem gráficos de Exploração e de Comunicação de resultados e, antes de produzir figuras você deve ter em mente que tipo de gráfico você quer produzir. \n",
        "\n",
        "Aqui você também deve levar em conta que dados serão empregados para produzir a visualização. Como você pode ver ao longo deste texto muitas das visualizações produzidas requerem seleções e tratamento dos dados para que possam ser produzidas e o entendimento dos dados é aqui essencial.\n",
        "\n",
        "Responder à pergunta *o quê?* vai ajuda-lo a selecionar os dados e até que tipo de gráficos empregar. \n",
        "\n",
        "Em minha experiência, os cientistas freqüentemente (embora nem sempre!) Sabem como visualizar dados sem serem grosseiramente enganosos. No entanto, eles podem não ter um senso de estética visual bem desenvolvido e podem, inadvertidamente, fazer escolhas visuais que prejudicam a mensagem desejada. Os designers, por outro lado, podem preparar visualizações que parecem bonitas, mas brincam com os dados de forma rápida e solta. É meu objetivo fornecer informações úteis para ambos os grupos.\n",
        "\n",
        "### Para quem? \n",
        "\n",
        "Os gráficos devem transmitir os dados com precisão e, mesmo que sejam gráficos só para você, eles devem ter um aspecto agradável e que facilite você alcançar a mensagem. Afinal, você poderá rever esse gráfico muito tempo depois de produzi-lo e uma boa apresentação vai ajudará você a chegar mais facilmente à mensagem que foi produzida. \n",
        "\n",
        "Mas, em geral, queremos compartilhar nossos resultados e *para quem?* iremos produzir as visualizações é mais pergunta essencial que vai direcionar o que devemos fazer para produzir uma visualização eficaz. \n",
        "\n",
        "Gráficos Exploratórios são muitas vezes compartilhados com colegas que estão trabalhando com o mesmo conjunto de dados, podem ser dados de uma pesquisa acadêmica ou a análise de dados de vendas ou de produção de uma empresa. Esses gráficos podem ser menos elaborados que gráficos produzidos para Comunicação de Resultados uma vez que todos compartilham o contexto e compartilham uma série de informações que não precisarão ser representadas. Isso não descarta um cuidado mínimo com a apresentação das figuras. Como antes, os gráficos podem ter de ser revistos muito depois de criados e a falta de cuidados na apresentação pode levar a transmissão de mensagens erradas sobre os dados ou, no mínimo, levar ao desinteresse às mensagens apresentadas. Também é importante lembrar que os gráficos exploratórios precisam ser refeitos e alterados várias vezes na busca de informações sobre os dados. \n",
        "\n",
        "Já para Gráficos de Apresentação (de Resultados) precisam ser, além de claros, atraentes e convincentes. Neste caso, uma boa ou má apresentação, pode ser a diferença entre ter um projeto aprovado na empresa, um artigo científico aceito ou uma proposta de negócio aceita, ou não. Mas nesses casos ainda é importante você ter claro o público a que se destina a apresentação do gráfico. Públicos diferentes terão conhecimentos diferentes sobre o contexto dos dados, e podem ter uma linguagem e expectativas muito diferentes. Você pode pensar sobre gráficos comunicando dados sobre a Pandemai de Covid para o público geral e os que são produzidos para a comunidade ou um artigo científicos. \n",
        "\n",
        "### Desenhe\n",
        "\n",
        "Um gráfico pode ser construído apenas com lápis e papel e, mesmo assim, comunicar corretamente os dados. Você não precisa necessariamente *desenhar* o gráfico no papel mas, independente da linguagem ou da ferramenta que você irá empregar para produzir a sua visualização você precisa, antes de mais nada mentalizar essa figura, você precisa ter em mente que figura deseja produzir. Boa parte deste texto se dedicou exatamente a ajudá-lo a identificar que gráficos podem ser construídos para cada tipo de pergunta que queremos responder sobre os dados (*Evolução, Distribuição, Quantidades e Proporções, ou Relações). Você pode assim, mentalizar (ou pode mesmo desenhar no papel) o tipo de visualização que deseja construir. Isso é muitas vezes importante pois pode ser que não seja você que vai produzir as visualizações, mas um programador ou alguém com algum conhecimento de uma ferramenta. \n",
        "\n",
        "### Execute\n",
        "\n",
        "Por último, já está tudo definido o que você tem a fazer é empregar o Python, ou uma outra ferramenta, o melhor possível para produzir a sua visualização. Esse é um processo que requer um certo domínio das ferramentas empregadas e é necessário, muitas vezes, várias experimentações e execuções para se chegar ao resultado desejado. \n",
        "\n",
        "<br>\n",
        "\n",
        "É claro que essas fases diferem caso a caso e podem ser todas feitas em conjunto para casos simples, mas há também questões mais sofisticadas como quando se tratam de criar *pipelines* de visualização de dados em que dados alimentam visualizações de dados que serão atualizadas continuamente, ou de tempos em tempos, fazendo parte de uma linha de produção. Algo que é muito comum em *dashboards*, produção de relatórios periódicos de empresas etc. mas também não tão incomum em pesquisas que envolvem muitos dados.\n",
        "\n"
      ]
    },
    {
      "cell_type": "code",
      "metadata": {
        "id": "hn1MNHFqNSUP",
        "outputId": "1c5ad51b-3338-4a16-c36c-04b385ed422f",
        "colab": {
          "base_uri": "https://localhost:8080/",
          "height": 142
        }
      },
      "source": [
        "import pandas as pd\n",
        "import matplotlib.pyplot as plt\n",
        "import seaborn as sns\n",
        "\n",
        "data = sns.load_dataset('titanic')\n",
        "data = pd.DataFrame(data.groupby('class')['who'].count()).reset_index()\n",
        "data.columns = ['class','qty']\n",
        "display(data.head()) "
      ],
      "execution_count": 37,
      "outputs": [
        {
          "output_type": "display_data",
          "data": {
            "text/html": [
              "<div>\n",
              "<style scoped>\n",
              "    .dataframe tbody tr th:only-of-type {\n",
              "        vertical-align: middle;\n",
              "    }\n",
              "\n",
              "    .dataframe tbody tr th {\n",
              "        vertical-align: top;\n",
              "    }\n",
              "\n",
              "    .dataframe thead th {\n",
              "        text-align: right;\n",
              "    }\n",
              "</style>\n",
              "<table border=\"1\" class=\"dataframe\">\n",
              "  <thead>\n",
              "    <tr style=\"text-align: right;\">\n",
              "      <th></th>\n",
              "      <th>class</th>\n",
              "      <th>qty</th>\n",
              "    </tr>\n",
              "  </thead>\n",
              "  <tbody>\n",
              "    <tr>\n",
              "      <th>0</th>\n",
              "      <td>First</td>\n",
              "      <td>216</td>\n",
              "    </tr>\n",
              "    <tr>\n",
              "      <th>1</th>\n",
              "      <td>Second</td>\n",
              "      <td>184</td>\n",
              "    </tr>\n",
              "    <tr>\n",
              "      <th>2</th>\n",
              "      <td>Third</td>\n",
              "      <td>491</td>\n",
              "    </tr>\n",
              "  </tbody>\n",
              "</table>\n",
              "</div>"
            ],
            "text/plain": [
              "    class  qty\n",
              "0   First  216\n",
              "1  Second  184\n",
              "2   Third  491"
            ]
          },
          "metadata": {
            "tags": []
          }
        }
      ]
    },
    {
      "cell_type": "code",
      "metadata": {
        "id": "5Nk_VuMQMPPF",
        "outputId": "c42074bc-48fe-4917-d823-e87420c2adb2",
        "colab": {
          "base_uri": "https://localhost:8080/",
          "height": 297
        }
      },
      "source": [
        "# Adaptado de Nic Fox, How to Make Better Looking Charts in Python\n",
        "plt.figure(figsize=(12,4))\n",
        "\n",
        "plt.subplot(1,2,1)\n",
        "plt.bar(x='class', height='qty', data=data)\n",
        "\n",
        "plt.subplot(1,2,2)\n",
        "sns.barplot(data=data, x='class', y='qty', palette=['#eb3434', '#eb7a34', '#ebae34'])\n",
        "plt.xlabel('')\n",
        "plt.ylabel('')\n",
        "plt.title('Titanic, Passageiros por Classe', size=16, color='#4f4e4e', weight='bold')\n",
        "plt.xticks(size=14, color='#4f4e4e')\n",
        "# plt.yticks([], [])\n",
        "plt.text(x=1, y=520, s='Maior parte dos passageiros em 3a Classe', \n",
        "                 color='#4f4e4e', fontsize=12, horizontalalignment='center')\n",
        "plt.text(x=0, y=10, s=\"10\", \n",
        "                 color='white', fontsize=16, horizontalalignment='center')\n",
        "plt.text(x=1, y=10, s=\"25\", \n",
        "                 color='white', fontsize=16, horizontalalignment='center')\n",
        "plt.text(x=2, y=10, s=\"50\", \n",
        "                 color='white', fontsize=16, horizontalalignment='center')\n",
        "plt.ylim([0,550])\n",
        "\n",
        "sns.despine(left=True)\n",
        "\n",
        "plt.tight_layout()\n",
        "plt.show()"
      ],
      "execution_count": 39,
      "outputs": [
        {
          "output_type": "display_data",
          "data": {
            "image/png": "[encoded data removed]",
            "text/plain": [
              "<Figure size 864x288 with 2 Axes>"
            ]
          },
          "metadata": {
            "tags": [],
            "needs_background": "light"
          }
        }
      ]
    },
    {
      "cell_type": "markdown",
      "metadata": {
        "id": "RgygpRZQTONp"
      },
      "source": [
        "**O primeiro gráfico é um gráfico de trabalho, ou de Exploração. Ele pode eventualmente apresentar menos ornamentos e detalhes e, mesmo assim, ser eficiente em transmitir os dados para pessoas compartilham o contexto dos dados. Mas para a Apresentação, um gráfico como ao lado, deve transmitir melhor a mensagem.**"
      ]
    },
    {
      "cell_type": "markdown",
      "metadata": {
        "id": "i-kRmGRCCFy7"
      },
      "source": [
        "![](http://meusite.mackenzie.br/rogerio/data/covid_world_052020.png)\n",
        "\n",
        "**Gráfico Apresentando a Evolução dos Casos de Covid até Maio de 2020. É um gráfico de Apresentação (Resultados) e, certamente, muitas visualizações foram produzidas antes de se chegar ao resultado final. O gráfico tem também um público alvo específico que orienta como são apresentadas as informações.** (*source:* Financial Times, *Coronavirus tracker: the latest figures as countries fight the Covid-19 resurgence | Free to read*) "
      ]
    },
    {
      "cell_type": "markdown",
      "metadata": {
        "id": "b8oIQZVWic6A"
      },
      "source": [
        "## Design das Figuras\n",
        "\n",
        "> $\\bigstar \\text{  }$ *Most people make the mistake of thinking design is what it looks like… People think it’s this veneer — that the designers are handed this box and told, ‘Make it look good!’ That’s not what we think design is. It’s not just what it looks like and feels like. Design is how it works.* (Steve Jobs, The New York Times Magazine, https://www.nytimes.com/2003/11/30/magazine/the-guts-of-a-new-machine.html).\n",
        "\n",
        "Talvez não seja exatamente essa a interpretação, mas eu acredito que sim. O bom design é simplesmente aquilo que **funciona** e, no caso das Visualização de Dados *funcionar* significa apresentar e comunicar corretamente informações sobre os dados. A visualização de dados, antes de tudo, deve transmitir os dados com precisão mas, nem por isso, deve deixar de ter um aspecto agradável. Um bom aspecto das figuras permite o leitor chegar mais facilmente à mensagem  e, portanto, torna a visualização mais eficaz. \n",
        "\n",
        "Para isso parece essencial que você entenda o seu público. Um gráfico como acima é um gráfico para um público em geral, mas mesmo assim para leitores do *Financial Times* e, certamente, pessoas mais habituadas a ler e interpretar gráficos e, para eles, esse gráfico aparentemente funciona muito bem e tem, portanto, um bom design. Certamente um poster de um trabalho científico ou uma tese de doutorado empregarão designs diferentes e é comum a comunidade acadêmica não ver com muitos bons olhos cores e ornamentos nas figuras. Algo que, felizmente, vem mudando com alguns trabalhos privilegiando não só a pesquisa mas também a comunicação e compartilhamento do conhecimento. \n",
        "\n",
        "Mas, se por um lado é difícil definir um bom design, parece bastante claro o que torna um design ruim.\n",
        "\n",
        "\n",
        "\n"
      ]
    },
    {
      "cell_type": "code",
      "metadata": {
        "id": "Mj59GGHuUmYx",
        "outputId": "c9e030f1-cae7-4b71-e1e5-a5cddde262e3",
        "colab": {
          "base_uri": "https://localhost:8080/",
          "height": 204
        }
      },
      "source": [
        "data = sns.load_dataset('mpg')\n",
        "display(data.head())\n"
      ],
      "execution_count": 40,
      "outputs": [
        {
          "output_type": "display_data",
          "data": {
            "text/html": [
              "<div>\n",
              "<style scoped>\n",
              "    .dataframe tbody tr th:only-of-type {\n",
              "        vertical-align: middle;\n",
              "    }\n",
              "\n",
              "    .dataframe tbody tr th {\n",
              "        vertical-align: top;\n",
              "    }\n",
              "\n",
              "    .dataframe thead th {\n",
              "        text-align: right;\n",
              "    }\n",
              "</style>\n",
              "<table border=\"1\" class=\"dataframe\">\n",
              "  <thead>\n",
              "    <tr style=\"text-align: right;\">\n",
              "      <th></th>\n",
              "      <th>mpg</th>\n",
              "      <th>cylinders</th>\n",
              "      <th>displacement</th>\n",
              "      <th>horsepower</th>\n",
              "      <th>weight</th>\n",
              "      <th>acceleration</th>\n",
              "      <th>model_year</th>\n",
              "      <th>origin</th>\n",
              "      <th>name</th>\n",
              "    </tr>\n",
              "  </thead>\n",
              "  <tbody>\n",
              "    <tr>\n",
              "      <th>0</th>\n",
              "      <td>18.0</td>\n",
              "      <td>8</td>\n",
              "      <td>307.0</td>\n",
              "      <td>130.0</td>\n",
              "      <td>3504</td>\n",
              "      <td>12.0</td>\n",
              "      <td>70</td>\n",
              "      <td>usa</td>\n",
              "      <td>chevrolet chevelle malibu</td>\n",
              "    </tr>\n",
              "    <tr>\n",
              "      <th>1</th>\n",
              "      <td>15.0</td>\n",
              "      <td>8</td>\n",
              "      <td>350.0</td>\n",
              "      <td>165.0</td>\n",
              "      <td>3693</td>\n",
              "      <td>11.5</td>\n",
              "      <td>70</td>\n",
              "      <td>usa</td>\n",
              "      <td>buick skylark 320</td>\n",
              "    </tr>\n",
              "    <tr>\n",
              "      <th>2</th>\n",
              "      <td>18.0</td>\n",
              "      <td>8</td>\n",
              "      <td>318.0</td>\n",
              "      <td>150.0</td>\n",
              "      <td>3436</td>\n",
              "      <td>11.0</td>\n",
              "      <td>70</td>\n",
              "      <td>usa</td>\n",
              "      <td>plymouth satellite</td>\n",
              "    </tr>\n",
              "    <tr>\n",
              "      <th>3</th>\n",
              "      <td>16.0</td>\n",
              "      <td>8</td>\n",
              "      <td>304.0</td>\n",
              "      <td>150.0</td>\n",
              "      <td>3433</td>\n",
              "      <td>12.0</td>\n",
              "      <td>70</td>\n",
              "      <td>usa</td>\n",
              "      <td>amc rebel sst</td>\n",
              "    </tr>\n",
              "    <tr>\n",
              "      <th>4</th>\n",
              "      <td>17.0</td>\n",
              "      <td>8</td>\n",
              "      <td>302.0</td>\n",
              "      <td>140.0</td>\n",
              "      <td>3449</td>\n",
              "      <td>10.5</td>\n",
              "      <td>70</td>\n",
              "      <td>usa</td>\n",
              "      <td>ford torino</td>\n",
              "    </tr>\n",
              "  </tbody>\n",
              "</table>\n",
              "</div>"
            ],
            "text/plain": [
              "    mpg  cylinders  displacement  ...  model_year  origin                       name\n",
              "0  18.0          8         307.0  ...          70     usa  chevrolet chevelle malibu\n",
              "1  15.0          8         350.0  ...          70     usa          buick skylark 320\n",
              "2  18.0          8         318.0  ...          70     usa         plymouth satellite\n",
              "3  16.0          8         304.0  ...          70     usa              amc rebel sst\n",
              "4  17.0          8         302.0  ...          70     usa                ford torino\n",
              "\n",
              "[5 rows x 9 columns]"
            ]
          },
          "metadata": {
            "tags": []
          }
        }
      ]
    },
    {
      "cell_type": "code",
      "metadata": {
        "id": "0Djd_La3U2Ln",
        "outputId": "7b465dab-d0f2-4e1f-ceef-a37de6f58341",
        "colab": {
          "base_uri": "https://localhost:8080/",
          "height": 297
        }
      },
      "source": [
        "plt.figure(figsize=(12,4))\n",
        "\n",
        "plt.subplot(1,2,1)\n",
        "sns.barplot(x='model_year',y='mpg',data=data, color='green', alpha=0.7)\n",
        "plt.title('MPG por ano dos Modelos', fontsize=14, weight='bold')\n",
        "plt.yticks([])\n",
        "\n",
        "plt.subplot(1,2,2)\n",
        "sns.barplot(x='model_year',y='mpg',data=data, color='red', alpha=0.7)\n",
        "plt.title('MPG por ano dos Modelos', fontsize=14, weight='bold')\n",
        "plt.ylim([15,35])\n",
        "plt.yticks([])\n",
        "\n",
        "plt.tight_layout()\n",
        "plt.show()"
      ],
      "execution_count": 48,
      "outputs": [
        {
          "output_type": "display_data",
          "data": {
            "image/png": "[encoded data removed]",
            "text/plain": [
              "<Figure size 864x288 with 2 Axes>"
            ]
          },
          "metadata": {
            "tags": [],
            "needs_background": "light"
          }
        }
      ]
    },
    {
      "cell_type": "code",
      "metadata": {
        "colab": {
          "base_uri": "https://localhost:8080/",
          "height": 452
        },
        "id": "yHFpN-_I39-4",
        "outputId": "b0a29da6-d8a8-4c0f-d305-1da499f98140"
      },
      "source": [
        "import numpy as np\n",
        "import matplotlib.pyplot as plt\n",
        "\n",
        "n = 20\n",
        "Z = np.linspace(0,1,n*n).reshape(n,n)\n",
        "Z = (Z-Z.min())/(Z.max()-Z.min())\n",
        "Z += np.random.uniform(0,1,(n,n))\n",
        "\n",
        "plt.figure(figsize=(20,8))\n",
        "\n",
        "ax = plt.subplot(1,2,1, aspect=1)\n",
        "values = [30.,20.,15.,10.]\n",
        "x, y = 0.0, 0.5\n",
        "for value in values:\n",
        "    r1 = .5* (value / values[0])\n",
        "    r2 = .5* ((np.sqrt(value/np.pi))/(np.sqrt(values[0]/np.pi)))\n",
        "    ax.add_artist(plt.Circle( (x+r2,y), r1, color='r'))\n",
        "    ax.add_artist(plt.Circle( (x+r2,1.5+y), r2, color='k'))\n",
        "    fontsize = 2*value\n",
        "#    plt.text(x+r2, y, \"%d\" % value, color=\"white\", family = \"Times New Roman\",\n",
        "#             fontsize=fontsize, ha=\"center\", va=\"center\")\n",
        "#    plt.text(x+r2, 1.5+y, \"%d\" % value, color=\"white\", family = \"Times New Roman\",\n",
        "#             fontsize=fontsize, ha=\"center\", va=\"center\")\n",
        "    x += 2*r2 + 0.05\n",
        "plt.axhline(1.25, c='k')\n",
        "plt.text(0.0, 1.25+0.05, \"Relative size using disc area\",\n",
        "         ha=\"left\", va=\"bottom\",color=\".25\")\n",
        "plt.text(0.0, 1.25-0.05, \"Relative size using disc radius\",\n",
        "         ha=\"left\", va=\"top\",color=\".25\")\n",
        "plt.xlim(-0.05, 3.5)\n",
        "plt.ylim(-0.05, 2.6)\n",
        "plt.axis('off')\n",
        "\n",
        "\n",
        "ax = plt.subplot(1,2,2, aspect=1)\n",
        "\n",
        "plt.axhline(5, c='k')\n",
        "plt.text(0.0, 5+0.15, \"Relative size using full range\",\n",
        "         ha=\"left\", va=\"bottom\",color=\".25\")\n",
        "plt.text(0.0, 5-0.15, \"Relative size using partial range\",\n",
        "         ha=\"left\", va=\"top\",color=\".25\")\n",
        "\n",
        "\n",
        "n = 10\n",
        "np.random.seed(123)\n",
        "X = 0.25+np.arange(n)\n",
        "Y = 2+np.random.uniform(.75,.85,n)\n",
        "\n",
        "plt.bar(X, 5*(Y-2.2), .9, color='k', ec='None',bottom=6)\n",
        "plt.bar(X, 20*(Y-2.75), .9, color='r', ec='None',bottom=1)\n",
        "\n",
        "plt.xlim(-0.05, 10.5)\n",
        "plt.ylim(-0.05, 10.5)\n",
        "plt.axis('off')\n",
        "\n",
        "plt.savefig(\"figure-6.pdf\")\n",
        "plt.show()"
      ],
      "execution_count": null,
      "outputs": [
        {
          "output_type": "display_data",
          "data": {
            "image/png": "[encoded data removed]",
            "text/plain": [
              "<Figure size 1440x576 with 2 Axes>"
            ]
          },
          "metadata": {
            "tags": []
          }
        }
      ]
    },
    {
      "cell_type": "markdown",
      "metadata": {
        "id": "FN6rhMF7vs-i"
      },
      "source": [
        "A visualização científica é classicamente definida como o processo de exibir dados científicos graficamente. No entanto, esse processo está longe de ser direto ou automático. Existem tantas maneiras diferentes de representar os mesmos dados: gráficos de dispersão, gráficos lineares, gráficos de barra e gráficos de pizza, para citar apenas alguns. Além disso, os mesmos dados, usando o mesmo tipo de gráfico, podem ser percebidos de forma muito diferente dependendo de quem está olhando para a figura. Uma definição mais precisa para visualização científica seria uma interface gráfica entre pessoas e dados. Neste breve artigo, não pretendemos explicar tudo sobre essa interface; em vez disso, consulte [1] , [2] para um trabalho introdutório. Em vez disso, pretendemos fornecer um conjunto básico de regras para melhorar o design da figura e explicar algumas das armadilhas comuns.\n",
        "\n",
        "\n",
        "<div class=\"danger\">\n",
        "  <p style=  \"background-color: #ffdddd; border-left: 6px solid #f44336;\">\n",
        "  \n",
        "  <strong>Danger!</strong> Some text...</p>\n",
        "</div>\n",
        "\n",
        "# Regra 1: Conheça seu público\n",
        "\n",
        "Dada a definição acima, surgem problemas quando a forma como um visual é percebido difere significativamente da intenção do transportador. Consequentemente, é importante identificar, o mais cedo possível no processo de design, o público e a mensagem que o visual deve transmitir. O design gráfico do visual deve ser informado por esta intenção. Se você está fazendo uma figura para você e seus colaboradores diretos, é possível pular uma série de etapas no processo de design, porque cada um de vocês sabe do que trata a figura. No entanto, se você pretende publicar uma figura em uma revista científica, certifique-se de que sua figura esteja correta e transmita todas as informações relevantes para um público mais amplo. O público de alunos requer cuidados especiais, pois o objetivo dessa situação é explicar um conceito. Nesse caso, pode ser necessário adicionar informações extras para garantir que o conceito seja totalmente compreendido. Finalmente, o público em geral pode ser o público mais difícil de todos, uma vez que você precisa projetar uma figura simples, possivelmente aproximada, que revela apenas a parte mais saliente de sua pesquisa (Figura 1 ). Este tem se mostrado um exercício difícil [3] .\n",
        "\n",
        "miniatura\tDownload:\n",
        "PPTSlide de PowerPoint\n",
        "PNGimagem maior\n",
        "TIFFimagem original\n",
        "Figura 1. Conheça seu público.\n",
        "\n",
        "Este é um remake de uma figura que foi originalmente publicada no New York Times (NYT) em 2007. Esta nova figura foi feita com matplotlib usando dados aproximados. Os dados são compostos por quatro séries (mortes / casos de homens, mortes / casos de mulheres) que poderiam ter sido exibidas usando gráficos de barra clássicos de coluna dupla (mortes / casos). No entanto, o layout usado aqui é melhor para o público-alvo. Ele explora o fato de que o número de novos casos é sempre maior do que o número correspondente de mortes para misturar os dois valores. Também aproveita a direção de leitura (inglês [esquerda para direita] para NYT) para facilitar a comparação entre homens e mulheres, enquanto os rótulos centrais dão acesso imediato à mensagem principal da figura (câncer). Esta é uma figura independente que transmite uma mensagem clara sobre as mortes por câncer. No entanto, não é preciso. O layout escolhido torna realmente difícil estimar o número de mortes por câncer renal devido à sua posição inferior e à localização dos carrapatos marcados na parte superior. Embora isso seja aceitável para uma publicação de público geral, não seria aceitável em uma publicação científica se os valores numéricos reais não fossem fornecidos em outra parte do artigo.\n",
        "\n",
        "https://doi.org/10.1371/journal.pcbi.1003833.g001\n",
        "\n",
        "# Regra 2: Identifique sua mensagem\n",
        "\n",
        "Uma figura se destina a expressar uma ideia ou apresentar alguns fatos ou um resultado que seria muito longo (ou quase impossível) de explicar apenas com palavras, seja para um artigo ou durante uma apresentação oral limitada no tempo. Nesse contexto, é importante identificar claramente o papel da figura, ou seja, qual é a mensagem subjacente e como uma figura pode expressar melhor essa mensagem? Uma vez claramente identificada, esta mensagem será um guia forte para o design da figura, conforme mostrado na Figura 2. Somente depois de identificar a mensagem, valerá a pena desenvolver sua figura, da mesma forma que você gastaria tempo para moldar suas palavras e frases ao escrever um artigo somente depois de decidir os pontos principais do texto. Se sua figura é capaz de transmitir uma mensagem marcante à primeira vista, aumentam as chances de que seu artigo atraia mais atenção da comunidade.\n",
        "\n",
        "miniatura\tDownload:\n",
        "PPTSlide de PowerPoint\n",
        "PNGimagem maior\n",
        "TIFFimagem original\n",
        "Figura 2. Identifique sua mensagem.\n",
        "\n",
        "O colículo superior (SC) é uma estrutura do tronco encefálico na encruzilhada de múltiplas vias funcionais. Vários estudos neurofisiológicos sugerem que a população de neurônios ativos no CS codifica a localização de um alvo visual que induz o movimento ocular sacádico. A projeção da superfície da retina (à esquerda) para a superfície collicular (à direita) é baseada em um modelo padrão e quantitativo no qual uma função de mapeamento logarítmico garante a projeção das coordenadas retinais para as coordenadas colliculares. Este mapeamento logarítmico desempenha um papel importante na decisão sacádica. Para ilustrar melhor esse papel, um padrão xadrez artificial foi usado, embora tal padrão não seja usado durante os experimentos. Este padrão quadriculado demonstra claramente a extrema ampliação da região foveal,\n",
        "\n",
        "https://doi.org/10.1371/journal.pcbi.1003833.g002\n",
        "\n",
        "# Regra 3: Adapte a Figura ao Meio de Suporte\n",
        "\n",
        "Uma figura pode ser exibida em uma variedade de mídias, como um pôster, um monitor de computador, uma tela de projeção (como em uma apresentação oral) ou uma simples folha de papel (como em um artigo impresso). Cada uma dessas mídias representa diferentes tamanhos físicos para a figura, mas, mais importante, cada uma delas também implica diferentes maneiras de ver e interagir com a figura. Por exemplo, durante uma apresentação oral, uma figura será exibida por um tempo limitado. Assim, o visualizador deve entender rapidamente o que é exibido e o que ele representa enquanto ouve sua explicação. Em tal situação, a figura deve ser mantida simples e a mensagem deve ser visualmente saliente para chamar a atenção, conforme mostrado na Figura 3. Também é importante ter em mente que durante as apresentações orais, as figuras serão projetadas em vídeo e serão vistas à distância, e os elementos da figura devem ser consequentemente engrossados ​​(linhas) ou maiores (pontos, texto), as cores devem ter cores fortes deve-se evitar contraste e texto vertical, etc. Para um artigo de periódico, a situação é totalmente diferente, pois o leitor pode visualizar a figura pelo tempo que for necessário. Isso significa que muitos detalhes podem ser adicionados, junto com explicações complementares na legenda. Se levarmos em consideração o fato de que cada vez mais pessoas lêem artigos nas telas dos computadores, elas também têm a possibilidade de ampliar e arrastar a figura. Idealmente, cada tipo de suporte requer uma figura diferente, e você deve abandonar a prática de extrair uma figura de seu artigo para colocá-la como está,\n",
        "\n",
        "miniatura\tDownload:\n",
        "PPTSlide de PowerPoint\n",
        "PNGimagem maior\n",
        "TIFFimagem original\n",
        "Figura 3. Adapte a figura ao suporte.\n",
        "\n",
        "Essas duas figuras representam a mesma simulação das trajetórias de um sistema de partícula dupla (, , , ) onde cada partícula interage com a outra. Dependendo das condições iniciais, o sistema pode terminar em três estados diferentes. A figura à esquerda foi preparada para um artigo de jornal onde o leitor é livre para olhar cada detalhe. A cor vermelha foi usada consistentemente para indicar as condições iniciais (pontos vermelhos no painel ampliado) e as trajetórias (linhas vermelhas). A transparência da linha foi aumentada para destacar regiões onde as trajetórias se sobrepõem (alta densidade de cor). A figura certa foi preparada para uma apresentação oral. Muitos detalhes foram removidos (número reduzido de trajetórias, sem trajetórias sobrepostas, número reduzido de marcações, eixo maior e rótulos de marcação, sem título, linhas mais grossas) porque a exibição limitada desta figura não permitiria ao público examinar cada detalhe. Além do mais,\n",
        "\n",
        "https://doi.org/10.1371/journal.pcbi.1003833.g003\n",
        "\n",
        "# Regra 4: as legendas não são opcionais\n",
        "\n",
        "Seja descrevendo uma configuração experimental, introduzindo um novo modelo ou apresentando novos resultados, você não pode explicar tudo dentro da própria figura - uma figura deve ser acompanhada por uma legenda. A legenda explica como ler a figura e fornece precisão adicional para o que não pode ser representado graficamente. Isso pode ser visto como a explicação que você daria durante uma apresentação oral ou na frente de um pôster, mas com a diferença de que você deve pensar com antecedência sobre as perguntas que as pessoas fariam. Por exemplo, se você tiver um gráfico de barras, não espere que o leitor adivinhe o valor das diferentes barras apenas olhando e medindo as alturas relativas na figura. Se os valores numéricos forem importantes, eles devem ser fornecidos em outra parte do artigo ou escritos de forma muito clara na figura. Similarmente,\n",
        "\n",
        "# Regra 5: não confie nos padrões\n",
        "\n",
        "Qualquer biblioteca ou software de plotagem vem com um conjunto de configurações padrão. Quando o usuário final não especifica nada, essas configurações padrão são usadas para especificar tamanho, fonte, cores, estilos, tiques, marcadores, etc. ( Figura 4) Praticamente qualquer configuração pode ser especificada e você geralmente pode reconhecer o estilo específico de cada pacote de software (Matlab, Excel, Keynote, etc.) ou biblioteca (LaTeX, matplotlib, gnuplot, etc.) graças à escolha dessas configurações padrão. Uma vez que essas configurações devem ser usadas para praticamente qualquer tipo de gráfico, eles não são ajustados para um tipo específico de gráfico. Em outras palavras, eles são bons o suficiente para qualquer enredo, mas não são adequados para nenhum. Todos os gráficos requerem pelo menos algum ajuste manual das diferentes configurações para expressar melhor a mensagem, seja para tornar um gráfico preciso mais saliente para um público amplo, ou para escolher o melhor mapa de cores para a natureza dos dados. Por exemplo, consulte [4] para saber como ir das configurações padrão para um visual mais agradável no caso da biblioteca matplotlib.\n",
        "\n",
        "miniatura\tDownload:\n",
        "PPTSlide de PowerPoint\n",
        "PNGimagem maior\n",
        "TIFFimagem original\n",
        "Figura 4. Não confie nos padrões.\n",
        "\n",
        "O painel esquerdo mostra as funções seno e cosseno conforme renderizadas por matplotlib usando as configurações padrão. Embora esta figura seja clara o suficiente, ela pode ser melhorada visualmente ajustando as várias configurações disponíveis, conforme mostrado no painel direito.\n",
        "\n",
        "https://doi.org/10.1371/journal.pcbi.1003833.g004\n",
        "\n",
        "# Regra 6: Use a cor de maneira eficaz\n",
        "\n",
        "A cor é uma dimensão importante na visão humana e, conseqüentemente, igualmente importante no design de uma figura científica. No entanto, como explicado por Edward Tufte [1] , a cor pode ser seu maior aliado ou seu pior inimigo se não for usada corretamente. Se você decidir usar cores, deve considerar quais cores usar e onde usá-las. Por exemplo, para destacar algum elemento de uma figura, você pode usar a cor para este elemento enquanto mantém outros elementos cinza ou preto. Isso fornece um efeito de aprimoramento. No entanto, se você não tiver essa necessidade, pergunte a si mesmo: \"Existe alguma razão para que este gráfico seja azul e não preto?\" Se você não souber a resposta, mantenha-o na cor preta. O mesmo se aplica aos mapas de cores. Não use o mapa de cores padrão (por exemplo, jato ou arco-íris) a menos que haja uma razão explícita para fazê-lo (verFigura 5 e [5] ). Os colormaps são tradicionalmente classificados em três categorias principais:\n",
        "\n",
        "miniatura\tDownload:\n",
        "PPTSlide de PowerPoint\n",
        "PNGimagem maior\n",
        "TIFFimagem original\n",
        "Figura 5. Use as cores de maneira eficaz.\n",
        "\n",
        "Esta figura representa o mesmo sinal, cuja frequência aumenta para a direita e a intensidade aumenta para baixo, usando três mapas de cores diferentes. O mapa de cores do arco-íris (qualitativo) e o mapa de cores sísmico (divergentes) são igualmente ruins para esse tipo de sinal porque tendem a ocultar detalhes no domínio de alta frequência (parte inferior direita). Usando um mapa de cores sequencial, como o roxo, é mais fácil ver os detalhes no domínio de alta frequência. Adaptado de [5] .\n",
        "\n",
        "https://doi.org/10.1371/journal.pcbi.1003833.g005\n",
        "\n",
        "Sequencial : uma variação de uma cor única, usada para dados quantitativos variando de baixo a alto.\n",
        "Divergente : variação de uma cor para outra, usada para destacar o desvio de um valor mediano.\n",
        "Qualitativo : variação rápida de cores, usado principalmente para dados discretos ou categóricos.\n",
        "Use o mapa de cores mais relevante para seus dados. Por último, evite usar muitas cores semelhantes, pois o daltonismo pode tornar difícil discernir algumas diferenças de cor (consulte [6] para uma explicação detalhada).\n",
        "\n",
        "# Regra 7: Não engane o leitor\n",
        "\n",
        "O que distingue uma figura científica de outra obra de arte gráfica é a presença de dados que precisam ser mostrados da forma mais objetiva possível. Uma figura científica é, por definição, vinculada aos dados (seja uma configuração experimental, um modelo ou alguns resultados) e se você afrouxar esse laço, poderá projetar sem querer uma mensagem diferente da pretendida. No entanto, representar os resultados de forma objetiva nem sempre é simples. Por exemplo, uma série de escolhas implícitas feitas pela biblioteca ou software que você está usando e que devem ser precisas na maioria das situações também podem enganar o visualizador em certas circunstâncias. Se o seu software redimensiona automaticamente os valores, você pode obter uma representação objetiva dos dados (porque título, rótulos,Figura 6 ); você inadvertidamente induziu seus leitores a acreditarem em algo que não existe em seus dados. Você também pode fazer escolhas explícitas que estão erradas por design, como usar gráficos de pizza ou gráficos 3D para comparar quantidades. Esses dois tipos de gráficos são conhecidos por induzir a uma percepção incorreta de quantidades e requer algum conhecimento para usá-los adequadamente. Como regra geral, certifique-se de sempre usar o tipo mais simples de plotagem que pode transmitir sua mensagem e certifique-se de usar rótulos, marcações, título e toda a gama de valores quando relevante. Por último, não hesite em perguntar aos colegas sobre a interpretação dos seus números.\n",
        "\n",
        "miniatura\tDownload:\n",
        "PPTSlide de PowerPoint\n",
        "PNGimagem maior\n",
        "TIFFimagem original\n",
        "Figura 6. Não engane o leitor.\n",
        "\n",
        "Na parte esquerda da figura, representamos uma série de quatro valores: 30, 20, 15, 10. Na parte superior esquerda, usamos a área do disco para representar o valor, enquanto na parte inferior usamos o raio do disco . Os resultados são visualmente muito diferentes. No último caso (círculos vermelhos), o último valor (10) parece muito pequeno em comparação com o primeiro (30), enquanto a razão entre os dois valores é de apenas 3∶1. Esta situação é realmente muito frequente na literatura porque o comando (ou interface) usado para produzir círculos ou gráficos de dispersão (com tamanhos de pontos variados) oferece o uso do raio como padrão para especificar o tamanho do disco. Portanto, parece lógico usar o valor para o raio, mas isso é enganoso. Na parte direita da figura, exibimos uma série de dez valores usando o intervalo completo para valores na parte superior (o eixo y vai de 0 a 100) ou um intervalo parcial na parte inferior (o eixo y vai de 80 a 100), e explicitamente não rotulamos o eixo y para aumentar a confusão. A percepção visual das duas séries é totalmente diferente. Na parte superior (série preta), tendemos a interpretar os valores como muito semelhantes, enquanto na parte inferior tendemos a acreditar que existem diferenças significativas. Mesmo se tivéssemos usado rótulos para indicar o intervalo real, o efeito persistiria porque as barras são as informações mais salientes nessas figuras. tendemos a interpretar os valores como muito semelhantes, enquanto na parte inferior tendemos a acreditar que existem diferenças significativas. Mesmo se tivéssemos usado rótulos para indicar o intervalo real, o efeito persistiria porque as barras são as informações mais salientes nessas figuras. tendemos a interpretar os valores como muito semelhantes, enquanto na parte inferior tendemos a acreditar que existem diferenças significativas. Mesmo se tivéssemos usado rótulos para indicar o intervalo real, o efeito persistiria porque as barras são as informações mais salientes nessas figuras.\n",
        "\n",
        "https://doi.org/10.1371/journal.pcbi.1003833.g006\n",
        "\n",
        "# Regra 8: Evite “Chartjunk”\n",
        "\n",
        "Chartjunk refere-se a todos os elementos visuais desnecessários ou confusos encontrados em uma figura que não melhoram a mensagem (no melhor caso) ou adicionam confusão (no pior caso). Por exemplo, chartjunk pode incluir o uso de muitas cores, muitos rótulos, fundos coloridos gratuitamente, linhas de grade inúteis, etc. (consulte a parte esquerda da Figura 7 ). O termo foi cunhado pela primeira vez por Edward Tutfe em [1] , no qual ele argumenta que qualquer decoração que não diga ao visualizador algo novo deve ser proibida: “Independentemente da causa, é tudo sem tinta de dados ou dados redundantes tinta, e muitas vezes é chartjunk. ” Portanto, para evitar o lixo gráfico, tente economizar tinta ou elétrons na era da computação. Stephen Few nos lembra em [7]que os gráficos devem, idealmente, “representar todos os dados necessários para ver e compreender o que é significativo”. No entanto, um elemento que poderia ser considerado chartjunk em uma figura pode ser justificado em outra. Por exemplo, o uso de uma cor de fundo em um gráfico regular geralmente é uma má ideia porque não traz informações úteis. No entanto, na parte direita da Figura 7 , usamos uma caixa de fundo cinza para indicar o intervalo [−1, + 1] conforme descrito na legenda. Em caso de dúvida, não hesite em consultar o excelente blog de Kaiser Fung [8] , que explica de forma bastante clara o conceito de chartjunk através do estudo de diversos exemplos.\n",
        "\n",
        "miniatura\tDownload:\n",
        "PPTSlide de PowerPoint\n",
        "PNGimagem maior\n",
        "TIFFimagem original\n",
        "Figura 7. Evite chartjunk.\n",
        "\n",
        "Temos sete séries de amostras que são igualmente importantes e gostaríamos de mostrá-las todas para compará-las visualmente (os valores exatos do sinal devem ser fornecidos em outro lugar). A figura à esquerda demonstra o que é certamente um dos piores designs possíveis. Todas as curvas se cobrem e as cores diferentes (que foram mal e automaticamente escolhidas pelo software) não ajudam a distingui-las. A caixa da legenda se sobrepõe a parte do gráfico, impossibilitando verificar se há alguma informação interessante nesta área. Existem muitos ticks: os rótulos x se sobrepõem, tornando-os ilegíveis, e a precisão de três dígitos não parece conter nenhuma informação significativa. Por fim, a grade não ajuda porque (entre outras críticas) não está alinhada com o sinal, que pode ser considerado discreto dado o pequeno número de pontos de amostra. A figura certa adota um layout radicalmente diferente enquanto usa a mesma área na folha de papel. As séries foram divididas em sete gráficos, cada um deles mostrando uma série, enquanto as outras séries foram desenhadas levemente atrás da principal. Etiquetas de série foram colocadas à esquerda de cada plotagem, evitando o uso de cores e caixa de legenda. O número de x marcações foi reduzido para três, e uma linha fina indica esses três valores para todos os gráficos. Finalmente, os tiques y foram completamente removidos e a altura das caixas de fundo cinza indicam o intervalo [-1, + 1] (isso também deve ser indicado na legenda da figura se for usado em um artigo). A figura certa adota um layout radicalmente diferente enquanto usa a mesma área na folha de papel. As séries foram divididas em sete gráficos, cada um deles mostrando uma série, enquanto as outras séries foram desenhadas levemente atrás da principal. Etiquetas de série foram colocadas à esquerda de cada plotagem, evitando o uso de cores e caixa de legenda. O número de x marcações foi reduzido para três, e uma linha fina indica esses três valores para todos os gráficos. Finalmente, os tiques y foram completamente removidos e a altura das caixas de fundo cinza indicam o intervalo [-1, + 1] (isso também deve ser indicado na legenda da figura se for usado em um artigo). A figura certa adota um layout radicalmente diferente enquanto usa a mesma área na folha de papel. As séries foram divididas em sete gráficos, cada um deles mostrando uma série, enquanto as outras séries foram desenhadas levemente atrás da principal. Etiquetas de série foram colocadas à esquerda de cada plotagem, evitando o uso de cores e caixa de legenda. O número de x marcações foi reduzido para três, e uma linha fina indica esses três valores para todos os gráficos. Finalmente, os tiques y foram completamente removidos e a altura das caixas de fundo cinza indicam o intervalo [-1, + 1] (isso também deve ser indicado na legenda da figura se for usado em um artigo). evitando o uso de cores e caixa de legenda. O número de x marcações foi reduzido para três, e uma linha fina indica esses três valores para todos os gráficos. Finalmente, os tiques y foram completamente removidos e a altura das caixas de fundo cinza indicam o intervalo [-1, + 1] (isso também deve ser indicado na legenda da figura se for usado em um artigo). evitando o uso de cores e caixa de legenda. O número de x marcações foi reduzido para três, e uma linha fina indica esses três valores para todos os gráficos. Finalmente, os tiques y foram completamente removidos e a altura das caixas de fundo cinza indicam o intervalo [-1, + 1] (isso também deve ser indicado na legenda da figura se for usado em um artigo).\n",
        "\n",
        "https://doi.org/10.1371/journal.pcbi.1003833.g007\n",
        "\n",
        "# Regra 9: A mensagem supera a beleza\n",
        "\n",
        "Os números são usados ​​na literatura científica desde a antiguidade. Ao longo dos anos, muito progresso foi feito e cada domínio científico desenvolveu seu próprio conjunto de melhores práticas. É importante conhecer esses padrões, pois eles facilitam uma comparação mais direta entre modelos, estudos ou experimentos. Mais importante, eles podem ajudá-lo a detectar erros óbvios em seus resultados. No entanto, na maioria das vezes, você pode precisar projetar uma figura totalmente nova, porque não existe uma maneira padrão de descrever sua pesquisa. Nesse caso, navegar na literatura científica é um bom ponto de partida. Se algum artigo exibir uma figura impressionante para apresentar resultados semelhantes aos seus, você pode tentar adaptar a figura às suas próprias necessidades (observe que não dissemos cópia; tenha cuidado com os direitos autorais da imagem). Se você recorrer à web,[9] . Existe uma miríade de gráficos online em que a estética é o primeiro critério e o conteúdo vem em segundo lugar. Mesmo que muitos desses gráficos possam ser considerados bonitos, a maioria deles não se encaixa na estrutura científica. Lembre-se, em ciência, a mensagem e a legibilidade da figura são os aspectos mais importantes, enquanto a beleza é apenas uma opção, como mostrado de forma dramática na Figura 8 .\n",
        "\n",
        "miniatura\tDownload:\n",
        "PPTSlide de PowerPoint\n",
        "PNGimagem maior\n",
        "TIFFimagem original\n",
        "Figura 8. A mensagem supera a beleza.\n",
        "\n",
        "Esta figura é um caso extremo em que a mensagem é particularmente clara, mesmo que a estética da figura seja questionável. O vale misterioso é uma hipótese bem conhecida no campo da robótica que correlaciona nosso nível de conforto com a semelhança humana de um robô. Para expressar esta natureza hipotética, foram usados ​​dados hipotéticos () e a figura recebeu uma aparência de esboço (filtro xkcd em matplotlib) associada a uma fonte de desenho animado que realça o efeito geral. Os rótulos das marcas também foram removidos, uma vez que apenas a forma geral da curva é importante. Usar um estilo de esboço transmite ao visualizador que os dados são aproximados e que são os conceitos de nível superior, e não os detalhes de nível inferior, que são importantes [10] .\n",
        "\n",
        "https://doi.org/10.1371/journal.pcbi.1003833.g008\n",
        "\n",
        "# Regra 10: Obtenha a ferramenta certa\n",
        "\n",
        "Existem muitas ferramentas que podem facilitar a sua vida na hora de criar figuras, e conhecer algumas delas pode economizar muito tempo. Dependendo do tipo de visual que você está tentando criar, geralmente há uma ferramenta dedicada que fará o que você está tentando alcançar. É importante entender neste ponto que o software ou biblioteca que você está usando para fazer uma visualização pode ser diferente do software ou biblioteca que você está usando para conduzir sua pesquisa e / ou analisar seus dados. Você sempre pode exportar dados para usá-los em outra ferramenta. Seja desenhando um gráfico, projetando um esquema de seu experimento ou plotando alguns dados, existem ferramentas de código aberto para você. Eles estão apenas esperando para serem encontrados e usados. Abaixo está uma pequena lista de ferramentas de código aberto.\n",
        "\n",
        "Matplotlib é uma biblioteca de plotagem python, principalmente para plotagem 2-D, mas com algum suporte 3-D, que produz figuras com qualidade de publicação em uma variedade de formatos impressos e ambientes interativos em plataformas. Ele vem com uma enorme galeria de exemplos que cobre praticamente todos os domínios científicos ( http://matplotlib.org/gallery.html ).\n",
        "\n",
        "R é uma linguagem e ambiente para computação estatística e gráficos. R fornece uma ampla variedade de técnicas estatísticas (modelagem linear e não linear, testes estatísticos clássicos, análise de série temporal, classificação, agrupamento, etc.) e técnicas gráficas, e é altamente extensível.\n",
        "\n",
        "Inkscape é um editor profissional de gráficos vetoriais. Ele permite que você desenhe figuras complexas e pode ser usado, por exemplo, para melhorar uma figura gerada por script ou para ler um arquivo PDF para extrair figuras e transformá-las da maneira que você quiser.\n",
        "\n",
        "TikZ e PGF são pacotes TeX para criar gráficos de forma programática. TikZ é construído em cima do PGF e permite que você crie gráficos sofisticados de uma maneira bastante intuitiva e fácil, como mostrado pela galeria Tikz ( http://www.texample.net/tikz/examples/all/ ).\n",
        "\n",
        "GIMP é o GNU Image Manipulation Program. É um aplicativo para tarefas como retoque de fotos, composição de imagens e autoria de imagens. Se você precisa retocar rapidamente uma imagem ou adicionar algumas legendas ou rótulos, o GIMP é a ferramenta perfeita.\n",
        "\n",
        "ImageMagick é um pacote de software para criar, editar, compor ou converter imagens bitmap a partir da linha de comando. Ele pode ser usado para converter rapidamente uma imagem em outro formato, e a enorme galeria de scripts ( http://www.fmwconcepts.com/imagemagick/index.php ) de Fred Weinhaus fornecerá virtualmente qualquer efeito que você queira alcançar.\n",
        "\n",
        "D3.js (ou apenas D3 para documentos orientados a dados) é uma biblioteca JavaScript que oferece uma maneira fácil de criar e controlar formulários gráficos interativos baseados em dados que são executados em navegadores da web, conforme mostrado na galeria em http: // github. com / mbostock / d3 / wiki / Gallery .\n",
        "\n",
        "Cytoscape é uma plataforma de software para visualizar redes complexas e integrá-las a qualquer tipo de dado de atributo. Se seus dados ou resultados forem muito complexos, o cytoscape pode ajudá-lo a aliviar essa complexidade.\n",
        "\n",
        "Circos foi originalmente projetado para visualizar dados genômicos, mas pode criar figuras a partir de dados em qualquer campo. Circos é útil se você tiver dados que descrevem relacionamentos ou anotações em várias camadas de uma ou mais escalas.\n",
        "\n",
        "Notas\n",
        "Todas as figuras para este artigo foram produzidas usando matplotlib, e os scripts de figura estão disponíveis em https://github.com/rougier/ten-rules .\n",
        "\n",
        "Referências\n",
        "1Tufte EG (1983) The Visual Display of Quantitative Information. Cheshire, Connecticut: Graphics Press.\n",
        "2Doumont JL (2009) Árvores, mapas e teoremas. Bruxelas: Principiae.\n",
        "3Kosara R, Mackinlay J (2013) Storytelling: A próxima etapa para visualização. IEEE Comput 46: 44–50.\n",
        "Ver artigoGoogle Scholar\n",
        "4Rougier NP (2012) Visualização científica e tutorial matplotlib. Euroscipy 2012 e 2013. Disponível: http://www.loria.fr/~rougier/teaching/matplotlib/matplotlib.html . Acessado em 12 de agosto de 2014.\n",
        "5Borland D, Taylor RM (2007) Mapa de cores do arco-íris (ainda) considerado prejudicial. IEEE Comput Graph Appl 27: 14–17.\n",
        "Ver artigoGoogle Scholar\n",
        "6Okabe M, Ito K (2008). Desenho universal colorido (ruminar) - como fazer figuras e apresentações amigáveis ​​para daltônicos. Disponível: http://jfly.iam.u-tokyo.ac.jp/color/ . Acessado em 12 de agosto de 2014.\n",
        "7Few S (2011) O debate chartjunk, um exame atento das descobertas recentes. Boletim Informativo de Visual Business Intelligence. Disponível: http://www.perceptualedge.com/articles/visual_business_intelligence/the_chartjunk_debate.pdf . Acessado em 12 de agosto de 2014.\n",
        "8Fung K (2005). Gráficos de lixo: Reciclando lixo gráfico como arte lixo. Disponível: http://junkcharts.typepad.com . Acessado em 12 de agosto de 2014.\n",
        "9Borkin MA, Vo AA, Bylinskii Z, Isola P, Sunkavalli S, et al. (2013) O que torna uma visualização memorável? IEEE Trans Vis Comput Graph 19: 2306–2315.\n",
        "Ver artigoGoogle Scholar\n",
        "10Schumann J, Strothotte T, Raab A, Laser S (1996) Avaliando o efeito de imagens renderizadas não fotorrealistas em cad. In: Proceedings of the SIGCHI Conference on Human Factors in Computing Systems; 13–18 de abril de 1996; Nova York, Nova York, Estados Unidos. CHI 96. New York: Association for Computing Machinery. pp.35–41."
      ]
    }
  ]
}