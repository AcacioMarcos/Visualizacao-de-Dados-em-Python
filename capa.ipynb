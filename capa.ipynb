{
  "nbformat": 4,
  "nbformat_minor": 0,
  "metadata": {
    "colab": {
      "name": "capa.ipynb",
      "provenance": [],
      "authorship_tag": "ABX9TyPIUGuWiETlyRNBYkqtf1wT",
      "include_colab_link": true
    },
    "kernelspec": {
      "name": "python3",
      "display_name": "Python 3"
    },
    "language_info": {
      "name": "python"
    }
  },
  "cells": [
    {
      "cell_type": "markdown",
      "metadata": {
        "id": "view-in-github",
        "colab_type": "text"
      },
      "source": [
        "<a href=\"https://colab.research.google.com/github/Rogerio-mack/Visualizacao-de-Dados-em-Python/blob/main/capa.ipynb\" target=\"_parent\"><img src=\"https://colab.research.google.com/assets/colab-badge.svg\" alt=\"Open In Colab\"/></a>"
      ]
    },
    {
      "cell_type": "markdown",
      "metadata": {
        "id": "OcEZHyZ-4ptM"
      },
      "source": [
        "<h1 style=\"color:#cc0000;\"><b>Uma Introdução à Visualização de Dados com Python</b></h1><p style=\"font-size:80%;color:#cc0000;\"></p>\n",
        "\n",
        "<it>Rogério de Oliveira</it>\n",
        "\n",
        "<br>\n",
        "<hr>\n",
        "<br>\n",
        "<br>\n",
        "\n",
        "\n",
        "<ol>\n",
        "<h3><li>\n",
        "<a href=\"https://colab.research.google.com/github/Rogerio-mack/Visualizacao-de-Dados-em-Python/blob/main/intro.ipynb\">Prefácio</a>\n",
        "<li>\n",
        "<a href=\"https://colab.research.google.com/github/Rogerio-mack/Visualizacao-de-Dados-em-Python/blob/main/c0_intro.ipynb\">Introdução</a>\n",
        "<li>\n",
        "<a href=\"https://colab.research.google.com/github/Rogerio-mack/Visualizacao-de-Dados-em-Python/blob/main/c0_parte_1.ipynb\">Básico: Colab, Python, NumPy e Pandas</a>\n",
        "<li>\n",
        "<a href=\"https://colab.research.google.com/github/Rogerio-mack/Visualizacao-de-Dados-em-Python/blob/main/c2_parte_1.ipynb\">Gráficos com Matplotlib</a>\n",
        "<li> \n",
        "<a href=\"https://colab.research.google.com/github/Rogerio-mack/Visualizacao-de-Dados-em-Python/blob/main/c3_parte_1.ipynb\">Evolução</a> \n",
        "<li>\n",
        "<a href=\"https://colab.research.google.com/github/Rogerio-mack/Visualizacao-de-Dados-em-Python/blob/main/c4_parte_1.ipynb\">Distribuição</a> \n",
        "<li>\n",
        "<a href=\"https://colab.research.google.com/github/Rogerio-mack/Visualizacao-de-Dados-em-Python/blob/main/c5_parte_1.ipynb\">Quantidades e Proporções</a> \n",
        "<li>\n",
        "<a href=\"https://colab.research.google.com/github/Rogerio-mack/Visualizacao-de-Dados-em-Python/blob/main/c6_parte_1.ipynb\">Relações</a> \n",
        "<li>\n",
        "<a href=\"https://colab.research.google.com/github/Rogerio-mack/Visualizacao-de-Dados-em-Python/blob/main/c7_parte_1.ipynb\">Boas Práticas de Visualização</a> \n",
        "<li>\n",
        "<a href=\"https://colab.research.google.com/github/Rogerio-mack/Visualizacao-de-Dados-em-Python/blob/main/refs.ipynb\">Bibliografia e Recursos</a> \n",
        "</ol>\n",
        "</h1> "
      ]
    }
  ]
}