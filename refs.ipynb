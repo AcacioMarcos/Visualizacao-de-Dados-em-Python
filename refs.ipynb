{
  "nbformat": 4,
  "nbformat_minor": 0,
  "metadata": {
    "colab": {
      "name": "refs.ipynb",
      "provenance": []
    },
    "kernelspec": {
      "name": "python3",
      "display_name": "Python 3"
    },
    "language_info": {
      "name": "python"
    }
  },
  "cells": [
    {
      "cell_type": "markdown",
      "metadata": {
        "id": "-Nu1Sms-buDw"
      },
      "source": [
        "# **Bibliografia**\n",
        "<hr>"
      ]
    },
    {
      "cell_type": "markdown",
      "metadata": {
        "id": "YQW_-3h2bxzF"
      },
      "source": [
        "1. Kieran Healy **Data Visualization: A Practical Introduction** (2019)\n",
        "\n",
        "2. Danyel Fisher, Miriah Meyer  **Making Data Visual: A Practical Guide to Using Visualization for Insight** (2017) \n",
        "\n",
        "3. Edward R. Tufte **The Visual Display of Quantitative Information Hardcover** (2001)\n",
        "\n",
        "4. Claus O. Wilke **Fundamentals of Data Visualization: A Primer on Making Informative and Compelling Figures** (2019)  \n",
        "\n",
        "5. Samuel Burns **Python Data Visualization: An Easy Introduction to Data Visualization in Python with Matplotlip, Pandas, and Seaborn** (2019) \n",
        "\n"
      ]
    }
  ]
}